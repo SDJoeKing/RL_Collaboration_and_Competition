{
 "cells": [
  {
   "cell_type": "markdown",
   "metadata": {},
   "source": [
    "# Collaboration and Competition\n",
    "\n",
    "---\n",
    "\n",
    "In this notebook, you will learn how to use the Unity ML-Agents environment for the third project of the [Deep Reinforcement Learning Nanodegree](https://www.udacity.com/course/deep-reinforcement-learning-nanodegree--nd893) program.\n",
    "\n",
    "### 1. Start the Environment\n",
    "\n",
    "We begin by importing the necessary packages.  If the code cell below returns an error, please revisit the project instructions to double-check that you have installed [Unity ML-Agents](https://github.com/Unity-Technologies/ml-agents/blob/master/docs/Installation.md) and [NumPy](http://www.numpy.org/)."
   ]
  },
  {
   "cell_type": "code",
   "execution_count": 1,
   "metadata": {},
   "outputs": [],
   "source": [
    "from unityagents import UnityEnvironment\n",
    "import numpy as np"
   ]
  },
  {
   "cell_type": "markdown",
   "metadata": {},
   "source": [
    "Next, we will start the environment!  **_Before running the code cell below_**, change the `file_name` parameter to match the location of the Unity environment that you downloaded.\n",
    "\n",
    "- **Mac**: `\"path/to/Tennis.app\"`\n",
    "- **Windows** (x86): `\"path/to/Tennis_Windows_x86/Tennis.exe\"`\n",
    "- **Windows** (x86_64): `\"path/to/Tennis_Windows_x86_64/Tennis.exe\"`\n",
    "- **Linux** (x86): `\"path/to/Tennis_Linux/Tennis.x86\"`\n",
    "- **Linux** (x86_64): `\"path/to/Tennis_Linux/Tennis.x86_64\"`\n",
    "- **Linux** (x86, headless): `\"path/to/Tennis_Linux_NoVis/Tennis.x86\"`\n",
    "- **Linux** (x86_64, headless): `\"path/to/Tennis_Linux_NoVis/Tennis.x86_64\"`\n",
    "\n",
    "For instance, if you are using a Mac, then you downloaded `Tennis.app`.  If this file is in the same folder as the notebook, then the line below should appear as follows:\n",
    "```\n",
    "env = UnityEnvironment(file_name=\"Tennis.app\")\n",
    "```"
   ]
  },
  {
   "cell_type": "code",
   "execution_count": 2,
   "metadata": {},
   "outputs": [
    {
     "name": "stderr",
     "output_type": "stream",
     "text": [
      "INFO:unityagents:\n",
      "'Academy' started successfully!\n",
      "Unity Academy name: Academy\n",
      "        Number of Brains: 1\n",
      "        Number of External Brains : 1\n",
      "        Lesson number : 0\n",
      "        Reset Parameters :\n",
      "\t\t\n",
      "Unity brain name: TennisBrain\n",
      "        Number of Visual Observations (per agent): 0\n",
      "        Vector Observation space type: continuous\n",
      "        Vector Observation space size (per agent): 8\n",
      "        Number of stacked Vector Observation: 3\n",
      "        Vector Action space type: continuous\n",
      "        Vector Action space size (per agent): 2\n",
      "        Vector Action descriptions: , \n"
     ]
    }
   ],
   "source": [
    "env = UnityEnvironment(file_name=\"Tennis_Linux/Tennis.x86_64\")"
   ]
  },
  {
   "cell_type": "markdown",
   "metadata": {},
   "source": [
    "Environments contain **_brains_** which are responsible for deciding the actions of their associated agents. Here we check for the first brain available, and set it as the default brain we will be controlling from Python."
   ]
  },
  {
   "cell_type": "code",
   "execution_count": 4,
   "metadata": {},
   "outputs": [],
   "source": [
    "# get the default brain\n",
    "brain_name = env.brain_names[0]\n",
    "brain = env.brains[brain_name]"
   ]
  },
  {
   "cell_type": "markdown",
   "metadata": {},
   "source": [
    "### 2. Examine the State and Action Spaces\n",
    "\n",
    "In this environment, two agents control rackets to bounce a ball over a net. If an agent hits the ball over the net, it receives a reward of +0.1.  If an agent lets a ball hit the ground or hits the ball out of bounds, it receives a reward of -0.01.  Thus, the goal of each agent is to keep the ball in play.\n",
    "\n",
    "The observation space consists of 8 variables corresponding to the position and velocity of the ball and racket. Two continuous actions are available, corresponding to movement toward (or away from) the net, and jumping. \n",
    "\n",
    "Run the code cell below to print some information about the environment."
   ]
  },
  {
   "cell_type": "code",
   "execution_count": 5,
   "metadata": {},
   "outputs": [
    {
     "name": "stdout",
     "output_type": "stream",
     "text": [
      "Number of agents: 2\n",
      "Size of each action: 2\n",
      "There are 2 agents. Each observes a state with length: 24\n",
      "The state for the first agent looks like: [ 0.          0.          0.          0.          0.          0.\n",
      "  0.          0.          0.          0.          0.          0.\n",
      "  0.          0.          0.          0.         -7.38993645 -1.5\n",
      " -0.          0.          6.83172083  5.99607611 -0.          0.        ]\n"
     ]
    }
   ],
   "source": [
    "# reset the environment\n",
    "env_info = env.reset(train_mode=True)[brain_name]\n",
    "\n",
    "# number of agents \n",
    "num_agents = len(env_info.agents)\n",
    "print('Number of agents:', num_agents)\n",
    "\n",
    "# size of each action\n",
    "action_size = brain.vector_action_space_size\n",
    "print('Size of each action:', action_size)\n",
    "\n",
    "# examine the state space \n",
    "states = env_info.vector_observations\n",
    "state_size = states.shape[1]\n",
    "print('There are {} agents. Each observes a state with length: {}'.format(states.shape[0], state_size))\n",
    "print('The state for the first agent looks like:', states[0])"
   ]
  },
  {
   "cell_type": "code",
   "execution_count": 5,
   "metadata": {},
   "outputs": [
    {
     "data": {
      "text/plain": [
       "(2, 24)"
      ]
     },
     "execution_count": 5,
     "metadata": {},
     "output_type": "execute_result"
    }
   ],
   "source": [
    "states.shape"
   ]
  },
  {
   "cell_type": "markdown",
   "metadata": {},
   "source": [
    "### 3. Take Random Actions in the Environment\n",
    "\n",
    "In the next code cell, you will learn how to use the Python API to control the agents and receive feedback from the environment.\n",
    "\n",
    "Once this cell is executed, you will watch the agents' performance, if they select actions at random with each time step.  A window should pop up that allows you to observe the agents.\n",
    "\n",
    "Of course, as part of the project, you'll have to change the code so that the agents are able to use their experiences to gradually choose better actions when interacting with the environment!"
   ]
  },
  {
   "cell_type": "code",
   "execution_count": null,
   "metadata": {},
   "outputs": [
    {
     "name": "stdout",
     "output_type": "stream",
     "text": [
      "Score (max over agents) from episode 1: 0.0, AT C: 15\n",
      "Score (max over agents) from episode 2: 0.0, AT C: 13\n",
      "Score (max over agents) from episode 3: 0.0, AT C: 14\n"
     ]
    }
   ],
   "source": [
    "num_agents = len(env_info.agents)\n",
    "action_size = brain.vector_action_space_size\n",
    "for i in range(1, 6):                                      # play game for 5 episodes\n",
    "    env_info = env.reset(train_mode=False)[brain_name]     # reset the environment    \n",
    "    states = env_info.vector_observations                  # get the current state (for each agent)\n",
    "    scores = np.zeros(num_agents)                          # initialize the score (for each agent)\n",
    "    C = 0\n",
    "    while True:\n",
    "        C+=1\n",
    "        actions = np.random.randn(num_agents, action_size) # select an action (for each agent)\n",
    "        actions = np.clip(actions, -1, 1)                  # all actions between -1 and 1\n",
    "        env_info = env.step(actions)[brain_name]           # send all actions to tne environment\n",
    "        next_states = env_info.vector_observations         # get next state (for each agent)\n",
    "        rewards = env_info.rewards                         # get reward (for each agent)\n",
    "        dones = env_info.local_done                        # see if episode finished\n",
    "        scores += env_info.rewards                         # update the score (for each agent)\n",
    "        states = next_states                               # roll over states to next time step\n",
    "        if np.any(dones):                                  # exit loop if episode finished\n",
    "            break\n",
    "    print('Score (max over agents) from episode {}: {}, AT C: {}'.format(i, np.max(scores), C))"
   ]
  },
  {
   "cell_type": "code",
   "execution_count": 47,
   "metadata": {
    "scrolled": true
   },
   "outputs": [
    {
     "data": {
      "text/plain": [
       "array([[ 0.        ,  0.        ,  0.        ,  0.        ,  0.        ,\n",
       "         0.        ,  0.        ,  0.        ,  0.        ,  0.        ,\n",
       "         0.        ,  0.        ,  0.        ,  0.        ,  0.        ,\n",
       "         0.        , -6.14030886, -1.5       , -0.        ,  0.        ,\n",
       "        -7.11741829,  5.98822832, -0.        ,  0.        ],\n",
       "       [ 0.        ,  0.        ,  0.        ,  0.        ,  0.        ,\n",
       "         0.        ,  0.        ,  0.        ,  0.        ,  0.        ,\n",
       "         0.        ,  0.        ,  0.        ,  0.        ,  0.        ,\n",
       "         0.        , -7.9574213 , -1.5       ,  0.        ,  0.        ,\n",
       "         7.11741829,  5.98822832,  0.        ,  0.        ]])"
      ]
     },
     "execution_count": 47,
     "metadata": {},
     "output_type": "execute_result"
    }
   ],
   "source": [
    "next_states"
   ]
  },
  {
   "cell_type": "markdown",
   "metadata": {},
   "source": [
    "When finished, you can close the environment."
   ]
  },
  {
   "cell_type": "code",
   "execution_count": 8,
   "metadata": {},
   "outputs": [],
   "source": [
    "env.close()"
   ]
  },
  {
   "cell_type": "markdown",
   "metadata": {},
   "source": [
    "### 4. It's Your Turn!\n",
    "\n",
    "Now it's your turn to train your own agent to solve the environment!  When training the environment, set `train_mode=True`, so that the line for resetting the environment looks like the following:\n",
    "```python\n",
    "env_info = env.reset(train_mode=True)[brain_name]\n",
    "```"
   ]
  },
  {
   "cell_type": "code",
   "execution_count": 1,
   "metadata": {},
   "outputs": [
    {
     "name": "stderr",
     "output_type": "stream",
     "text": [
      "INFO:unityagents:\n",
      "'Academy' started successfully!\n",
      "Unity Academy name: Academy\n",
      "        Number of Brains: 1\n",
      "        Number of External Brains : 1\n",
      "        Lesson number : 0\n",
      "        Reset Parameters :\n",
      "\t\t\n",
      "Unity brain name: TennisBrain\n",
      "        Number of Visual Observations (per agent): 0\n",
      "        Vector Observation space type: continuous\n",
      "        Vector Observation space size (per agent): 8\n",
      "        Number of stacked Vector Observation: 3\n",
      "        Vector Action space type: continuous\n",
      "        Vector Action space size (per agent): 2\n",
      "        Vector Action descriptions: , \n"
     ]
    }
   ],
   "source": [
    "import torch\n",
    "from unityagents import UnityEnvironment\n",
    "import numpy as np\n",
    "from agent import MA_TD3, TD3_agent_original\n",
    "from model import *\n",
    "from collections import deque\n",
    "\n",
    "env = UnityEnvironment(file_name=\"Tennis_Linux/Tennis.x86_64\")\n",
    "brain_name = env.brain_names[0]\n",
    "brain = env.brains[brain_name]\n",
    "env_info = env.reset(train_mode = True)[brain_name]\n",
    "num_agents = len(env_info.agents)"
   ]
  },
  {
   "cell_type": "code",
   "execution_count": 2,
   "metadata": {
    "scrolled": true
   },
   "outputs": [
    {
     "name": "stdout",
     "output_type": "stream",
     "text": [
      "Episode: 200, episode reward score: 0.0, avg score: 0.012500000204890966\n",
      "\n",
      "Episode: 400, episode reward score: 0.10000000149011612, avg score: 0.02140000034123659\n",
      "\n",
      "Random experiences gathered, Training started\n",
      "Episode: 600, episode reward score: 0.0, avg score: 0.006800000127404928\n",
      "\n",
      "Episode: 800, episode reward score: 0.0, avg score: 0.0\n",
      "\n",
      "Episode: 1000, episode reward score: 0.0, avg score: 0.0\n",
      "\n",
      "Episode: 1200, episode reward score: 0.0, avg score: 0.0\n",
      "\n",
      "Episode: 1400, episode reward score: 0.0, avg score: 0.0\n",
      "\n",
      "Episode: 1600, episode reward score: 0.0, avg score: 0.0\n",
      "\n",
      "Episode: 1800, episode reward score: 0.0, avg score: 0.0\n",
      "\n",
      "Episode: 2000, episode reward score: 0.0, avg score: 0.0\n",
      "\n",
      "Episode: 2200, episode reward score: 0.0, avg score: 0.0\n",
      "\n",
      "Episode: 2400, episode reward score: 0.0, avg score: 0.0\n",
      "\n",
      "Episode: 2600, episode reward score: 0.0, avg score: 0.0\n",
      "\n",
      "Episode: 2800, episode reward score: 0.0, avg score: 0.0\n",
      "\n",
      "Episode: 3000, episode reward score: 0.0, avg score: 0.0\n",
      "\n",
      "Episode: 3200, episode reward score: 0.0, avg score: 0.0\n",
      "\n",
      "Episode: 3400, episode reward score: 0.0, avg score: 0.021500000339001415\n",
      "\n",
      "Episode: 3600, episode reward score: 0.09000000171363354, avg score: 0.09250000154599547\n",
      "\n",
      "Episode: 3800, episode reward score: 0.10000000149011612, avg score: 0.09500000156462192\n",
      "\n",
      "Episode: 4000, episode reward score: 1.1000000163912773, avg score: 0.17850000271573663\n",
      "\n",
      "Solved in episode 3933, max average score 0.5043000075407327\n",
      "\n",
      "Episode: 4200, episode reward score: 0.800000011920929, avg score: 1.200200017914176\n",
      "\n",
      "Episode: 4400, episode reward score: 2.600000038743019, avg score: 1.1383000169880688\n",
      "\n"
     ]
    }
   ],
   "source": [
    "def training(env, multiagent, episodes = 4500, exploration = 0.3,  print_every = 200, term_reward = 0.5, seed = 10, start_steps = 10000):\n",
    "    np.random.seed(seed)\n",
    "    episodal_reward = []\n",
    "    averaged_window = deque(maxlen = 100)\n",
    "    averaged_reward = []\n",
    "    score_max = 0\n",
    "    total_it = 0\n",
    " \n",
    "    for e in range(episodes):\n",
    "        r = 0\n",
    "        env_info = env.reset(train_mode = True)[brain_name]\n",
    "        state = env_info.vector_observations \n",
    "        scores = np.zeros(num_agents)\n",
    "        ## Limit each eposide to not over 100 iterations\n",
    "        \n",
    "        while True:\n",
    "#             print(total_it)\n",
    "            if total_it < start_steps:\n",
    "                action = np.random.randn(2, 2).clip(-1, 1)\n",
    "                \n",
    "            else:\n",
    "                action = multiagent.act(state)\n",
    "                ## exploration std 0.1\n",
    "                action += np.random.normal(0, exploration, action.shape).clip(-1, 1)\n",
    "      \n",
    "                if total_it ==start_steps:\n",
    "                    print(\"Random experiences gathered, Training started\")\n",
    "                \n",
    "            total_it += 1\n",
    "            \n",
    "            env_info = env.step(action)[brain_name] \n",
    "            next_state = env_info.vector_observations \n",
    "            reward = env_info.rewards \n",
    "            done = env_info.local_done \n",
    "            scores += reward\n",
    "            multiagent.step(state, action, np.asarray(reward).reshape(-1, 1), next_state, np.asarray(done).reshape(-1, 1))           \n",
    "            \n",
    "            if np.any(done):\n",
    "                break\n",
    "            \n",
    "            state = next_state\n",
    "            \n",
    "        r = np.max(scores)\n",
    "        episodal_reward.append(r)\n",
    "        averaged_window.append(r)\n",
    "        averaged_reward.append(np.mean(averaged_window))\n",
    "\n",
    "        ## print every\n",
    "     \n",
    "        if (e+1) % print_every == 0:\n",
    "            print(f\"Episode: {e+1}, episode reward score: {episodal_reward[-1]}, avg score: {averaged_reward[-1]}\\n\")\n",
    "        \n",
    "        if e>0:\n",
    "            if r > score_max:\n",
    "                torch.save(multiagent.policy.state_dict(), 'model_policy.pt')  \n",
    "                torch.save(multiagent.qnet.state_dict(), 'model_qnet.pt') \n",
    "                score_max = r\n",
    "            if np.max(averaged_reward) > term_reward:\n",
    "                print(f\"Solved in episode {e+1-100}, max average score {np.max(averaged_reward)}\\n\")\n",
    "                term_reward = np.inf\n",
    "            \n",
    "    return episodal_reward, averaged_reward\n",
    "        \n",
    "ma = TD3_agent_original( states = 24, actions = 2, gamma = 0.99, lr = 5e-4, \n",
    "                        tau = 0.005, policy_smooth_noise = 0.2, \n",
    "                        noise_clip = 0.5, policy_delay = 2, batch_size = 256, seed = 33)\n",
    "\n",
    "epi_reward, avg_rward = training(env, ma, exploration = 0.3, seed = 33)\n",
    " "
   ]
  },
  {
   "cell_type": "code",
   "execution_count": 3,
   "metadata": {},
   "outputs": [],
   "source": [
    "env.close()"
   ]
  },
  {
   "cell_type": "code",
   "execution_count": 4,
   "metadata": {},
   "outputs": [
    {
     "data": {
      "text/plain": [
       "<matplotlib.legend.Legend at 0x7f81025312b0>"
      ]
     },
     "execution_count": 4,
     "metadata": {},
     "output_type": "execute_result"
    },
    {
     "data": {
      "image/png": "[encoded data removed]",
      "text/plain": [
       "<Figure size 432x288 with 1 Axes>"
      ]
     },
     "metadata": {
      "needs_background": "light"
     },
     "output_type": "display_data"
    }
   ],
   "source": [
    "import matplotlib.pyplot as plt\n",
    "plt.plot(epi_reward, label = 'Episodic reward')\n",
    "plt.plot(avg_rward, label = 'Averaged over past 100 epi')\n",
    "plt.xlabel(\"Episodes\")\n",
    "plt.ylabel(\"Undiscounted Reward\")\n",
    "plt.legend()"
   ]
  },
  {
   "cell_type": "code",
   "execution_count": null,
   "metadata": {},
   "outputs": [],
   "source": []
  }
 ],
 "metadata": {
  "kernelspec": {
   "display_name": "Python 3",
   "language": "python",
   "name": "python3"
  },
  "language_info": {
   "codemirror_mode": {
    "name": "ipython",
    "version": 3
   },
   "file_extension": ".py",
   "mimetype": "text/x-python",
   "name": "python",
   "nbconvert_exporter": "python",
   "pygments_lexer": "ipython3",
   "version": "3.6.15"
  }
 },
 "nbformat": 4,
 "nbformat_minor": 2
}
